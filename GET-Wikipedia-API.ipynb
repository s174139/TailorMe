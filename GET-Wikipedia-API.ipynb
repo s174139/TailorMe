{
 "cells": [
  {
   "cell_type": "markdown",
   "metadata": {},
   "source": [
    "## API explainer"
   ]
  },
  {
   "cell_type": "code",
   "execution_count": 5,
   "metadata": {},
   "outputs": [],
   "source": [
    "import urllib.request\n",
    "with urllib.request.urlopen('https://en.wikipedia.org/wiki/Rotten_Tomatoes') as f:\n",
    "    html = f.read().decode('utf-8')\n",
    "    \n",
    "#print(html)"
   ]
  },
  {
   "cell_type": "markdown",
   "metadata": {},
   "source": [
    "Now, use the API to get the page in a format we like: using base url, action, title, that we want content and in which format: and it will create the desired url/api. You can also look at: to get other things https://www.mediawiki.org/wiki/API:Main_page"
   ]
  },
  {
   "cell_type": "code",
   "execution_count": 6,
   "metadata": {},
   "outputs": [
    {
     "name": "stdout",
     "output_type": "stream",
     "text": [
      "https://en.wikipedia.org/w/api.php?action=query&prop=revisions&rvprop=content&titles=RottenTomatoes&format=json\n"
     ]
    }
   ],
   "source": [
    "baseurl = \"https://en.wikipedia.org/w/api.php?\"\n",
    "action = \"action=query\"\n",
    "title = \"titles=RottenTomatoes\"\n",
    "content = \"prop=revisions&rvprop=content\"\n",
    "dataformat =\"format=json\"\n",
    "\n",
    "query = \"{}{}&{}&{}&{}\".format(baseurl, action, content, title, dataformat)\n",
    "print(query)"
   ]
  },
  {
   "cell_type": "markdown",
   "metadata": {},
   "source": [
    "Use urllib to get the data from the API"
   ]
  },
  {
   "cell_type": "code",
   "execution_count": 8,
   "metadata": {},
   "outputs": [
    {
     "name": "stdout",
     "output_type": "stream",
     "text": [
      "{\"batchcomplete\":\"\",\"warnings\":{\"main\":{\"*\":\"Subscribe to the mediawiki-api-announce mailing list at <https://lists.wikimedia.org/mailman/listinfo/mediawiki-api-announce> for notice of API deprecations and breaking changes. Use [[Special:ApiFeatureUsage]] to see usage of deprecated features by your application.\"},\"revisions\":{\"*\":\"Because \\\"rvslots\\\" was not specified, a legacy format has been used for the output. This format is deprecated, and in the future the new format will always be used.\"}},\"query\":{\"pages\":{\"2231706\":{\"pageid\":2231706,\"ns\":0,\"title\":\"RottenTomatoes\",\"revisions\":[{\"contentformat\":\"text/x-wiki\",\"contentmodel\":\"wikitext\",\"*\":\"#REDIRECT [[Rotten Tomatoes]]\"}]}}}}\n"
     ]
    }
   ],
   "source": [
    "wikiresponse = urllib.request.urlopen(query)\n",
    "wikitext = wikiresponse.read().decode('utf-8')\n",
    "print(wikitext)"
   ]
  },
  {
   "cell_type": "markdown",
   "metadata": {},
   "source": [
    "Use JSON to receive keys"
   ]
  },
  {
   "cell_type": "code",
   "execution_count": 15,
   "metadata": {},
   "outputs": [
    {
     "name": "stdout",
     "output_type": "stream",
     "text": [
      "{'2231706': {'pageid': 2231706, 'ns': 0, 'title': 'RottenTomatoes', 'revisions': [{'contentformat': 'text/x-wiki', 'contentmodel': 'wikitext', '*': '#REDIRECT [[Rotten Tomatoes]]'}]}}\n"
     ]
    }
   ],
   "source": [
    "import json\n",
    "wikijson = json.loads(wikitext)\n",
    "print(wikijson[\"query\"][\"pages\"])"
   ]
  },
  {
   "cell_type": "code",
   "execution_count": 27,
   "metadata": {},
   "outputs": [
    {
     "name": "stdout",
     "output_type": "stream",
     "text": [
      "https://en.wikipedia.org/w/api.php?action=query&prop=revisions&rvprop=content&titles=Forbes&format=json\n"
     ]
    }
   ],
   "source": [
    "#wikipage 2\n",
    "\n",
    "with urllib.request.urlopen('https://en.wikipedia.org/wiki/Forbes') as f:\n",
    "    html2 = f.read().decode('utf-8')\n",
    "\n",
    "with urllib.request.urlopen('https://da.wikipedia.org/wiki/Fouriertransformation') as f:\n",
    "    html3 = f.read().decode('utf-8')\n",
    "    \n",
    "with urllib.request.urlopen('https://en.wikipedia.org/wiki/English_language') as f:\n",
    "    html4 = f.read().decode('utf-8')\n",
    "    \n",
    "baseurl = \"https://en.wikipedia.org/w/api.php?\"\n",
    "action = \"action=query\"\n",
    "title = \"titles=Forbes\"\n",
    "content = \"prop=revisions&rvprop=content\"\n",
    "dataformat =\"format=json\"\n",
    "\n",
    "query2 = \"{}{}&{}&{}&{}\".format(baseurl, action, content, title, dataformat)\n",
    "print(query2)"
   ]
  },
  {
   "cell_type": "code",
   "execution_count": 30,
   "metadata": {},
   "outputs": [],
   "source": [
    "wiki2 = urllib.request.urlopen(query2)\n",
    "wiki2text = wiki2.read().decode('utf-8')"
   ]
  },
  {
   "cell_type": "code",
   "execution_count": 31,
   "metadata": {},
   "outputs": [
    {
     "name": "stdout",
     "output_type": "stream",
     "text": [
      "https://en.wikipedia.org/w/api.php?action=query&prop=revisions&rvprop=content&titles=Forbes&format=json\n"
     ]
    }
   ],
   "source": [
    "baseurl = \"https://en.wikipedia.org/w/api.php?\"\n",
    "action = \"action=query\"\n",
    "title = \"titles=Fouriertransformation\"\n",
    "content = \"prop=revisions&rvprop=content\"\n",
    "dataformat =\"format=json\"\n",
    "\n",
    "query3 = \"{}{}&{}&{}&{}\".format(baseurl, action, content, title, dataformat)\n",
    "print(query2)\n",
    "\n",
    "\n",
    "wiki3 = urllib.request.urlopen(query3)\n",
    "wiki3text = f.read().decode('utf-8')"
   ]
  },
  {
   "cell_type": "code",
   "execution_count": 38,
   "metadata": {},
   "outputs": [
    {
     "name": "stdout",
     "output_type": "stream",
     "text": [
      "{'294894': {'pageid': 294894, 'ns': 0, 'title': 'Forbes', 'revisions': [{'contentformat': 'text/x-wiki', 'contentmodel': 'wikitext', '*': '{{Other uses}}\\n{{short description|American business magazine}}\\n{{Infobox magazine\\n| title           = Forbes\\n| logo            = Forbes_logo.svg\\n| logo_size       = 200px\\n| image_file      = Forbes (magazine) cover.jpg\\n| image_size      = 230px\\n| image_alt       = border\\n| image_caption   = Cover for December 20, 2010, featuring [[Julian Assange]]\\n| editor          = [[Steve Forbes]]\\n| editor_title    = Editor-in-chief\\n| editor2         = Randall Lane<ref name=poynter142283>{{cite web |publisher=[[Poynter Institute|Poynter.org]] |title=Randall Lane returns to Forbes as editor |first=Jim |last=Romenesko |date=August 9, 2011 |url=http://www.poynter.org/latest-news/mediawire/142283/randall-lane-returns-to-forbes-as-editor/ |url-status = dead|archiveurl=https://web.archive.org/web/20140222140925/http://www.poynter.org/latest-news/mediawire/142283/randall-lane-returns-to-forbes-as-editor/ |archivedate=February 22, 2014}}</ref>\\n| editor_title2   = Editor\\n| staff_writer    = \\n| frequency       = [[Biweekly]]\\n| total_circulation = 931,558<ref>{{cite web |title=Consumer Magazines |url=http://abcas3.auditedmedia.com/ecirc/magtitlesearch.asp |publisher=[[Alliance for Audited Media]] |accessdate=February 10, 2014 |archive-url=https://archive.is/20170123200306/http://abcas3.auditedmedia.com/ecirc/magtitlesearch.asp |archive-date=January 23, 2017 |url-status=dead }}</ref>\\n|circulation_year = 2013\\n| category        = Business magazine\\n| company         = Forbes Media, LLC (51%) <br> [[Forbes family (publishers)|Forbes family]] (49%)\\n| firstdate       = {{start date and age|1917|9|15}}\\n| country         = United States\\n| based           = [[Jersey City, New Jersey]], U.S.\\n| language        = English \\n| website         = {{URL|forbes.com/}}\\n| issn            = 0015-6914\\n}}\\n[[File:Naked Pictures of Bea Arthur 0078.jpg|thumb|upright|The former headquarters of Forbes on [[Fifth Avenue|5th Avenue]] in Manhattan (now owned by New York University)]]\\n\\n\\'\\'\\'\\'\\'Forbes\\'\\'\\'\\'\\' ({{IPAc-en|f|ɔr|b|z}}) is an American [[business]] [[magazine]]. Published biweekly, it features original articles on finance, industry, investing, and marketing topics. \\'\\'Forbes\\'\\' also reports on related subjects such as technology, communications, science, politics, and law. Its headquarters is located in [[Jersey City, New Jersey|Jersey City]], [[New Jersey]]. Primary competitors in the national business magazine category include \\'\\'[[Fortune (magazine)|Fortune]]\\'\\' and \\'\\'[[Bloomberg Businessweek]]\\'\\'. Forbes has an international edition in [[Asia]] as well as editions produced under license in 27 countries and regions worldwide.\\n\\nThe magazine is well known for its lists and rankings, including of the richest Americans (the [[Forbes 400]]), of the America\\'s Wealthiest Celebrities, of the world\\'s top companies (the [[Forbes Global 2000]]), 30 Under 30, World\\'s 100 Most Powerful Women, and [[The World\\'s Billionaires]].<ref>{{Cite web|url=https://www.thebalancesmb.com/best-business-magazines-4176680|title=The 8 Best Business Magazines of 2020|last=Delbridge|first=Emily|date=November 21, 2019|website=The Balance Small Business|publisher=Dotdash|location=New York City|at=Best for Lists: Forbes |url-status=live|access-date=February 8, 2020}}</ref> The [[motto]] of \\'\\'Forbes\\'\\' magazine is \"Change the World\".<ref>{{cite web|url=https://www.mediapost.com/publications/article/185898/forbes-launches-new-tagline-brand-campaign.html|title=\\'Forbes\\' Launches New Tagline, Brand Campaign|date=October 24, 2012|publisher=MediaPost|accessdate=January 24, 2020}}</ref> Its chair and [[chief editor|editor-in-chief]] is [[Steve Forbes]], and its CEO is Mike Federle.<ref name=\"Folio:\">{{cite website|website=Folio |title=Mike Federle Succeeds Mike Perlis As CEO Of Forbes |date=November 30, 2017 |last=Silva |first=Emma |url=http://www.foliomag.com/mike-federle-succeeds-mike-perlis-ceo-forbes-media-people-move/}}</ref> In 2014, it was sold to a Chinese [[Hong Kong]]-based investment group, Integrated Whale Media Investments.<ref name=forbes2014/><ref name=recode11628980/>\\n\\n==Company history==\\n[[File:Forbes building in NYC.jpg|thumb|right|upright=0.45|Forbes Building on [[Fifth Avenue]] in New York City (now owned by [[New York University]])]]\\n[[B. C. Forbes]], a financial columnist for the [[William Randolph Hearst|Hearst]] papers, and his partner Walter Drey, the general manager of the \\'\\'Magazine of Wall Street\\'\\',<ref name=\"Notes\">{{cite web|url=http://bizgyan.blogspot.com/2007/07/forbes.html|title=Notes of a Business Quizzer: Forbes|last=Praneeth|date=July 6, 2007|accessdate=August 27, 2018}}</ref> founded \\'\\'Forbes\\'\\' magazine on September 15, 1917.<ref name=\"Gorman\">Gorman, Robert F. (ed.) (2007) \"September 15, 1917: \\'\\'Forbes\\'\\' Magazine is founded\" \\'\\' The Twentieth Century, 1901–1940\\'\\' (Volume III) Salem Press, Pasadena, California, pp.1374–1376, p. 1375, {{ISBN|978-1-58765-327-8}}</ref><ref>{{cite web|title=Media Kit 2013|url=http://www.forbesmedia.com/wp-content/uploads/2013/05/2013-Forbes-Middle-East-English-Media-Kit.pdf|magazine=Forbes Middle East|accessdate=September 18, 2014|archive-url=https://web.archive.org/web/20141105210647/http://www.forbesmedia.com/wp-content/uploads/2013/05/2013-Forbes-Middle-East-English-Media-Kit.pdf|archive-date=November 5, 2014|url-status = dead}}</ref> Forbes provided the money and the name and Drey provided the publishing expertise. The original name of the magazine was \\'\\'Forbes: Devoted to Doers and Doings\\'\\'.<ref name=\"Notes\"/> Drey became vice-president of the B.C. Forbes Publishing Company,<ref>Commerce and Industry Association of New York (November 18, 1922) \"The Association Prepares for New Demands: The Volunteer Workers\" \\'\\'Greater New York: Bulletin of the Merchants\\' Association of New York\\'\\' Commerce and Industry Association of New York City, [https://books.google.com/books?id=6sZNAAAAMAAJ&pg=RA3-PT593 p. 6], {{OCLC|2447287}}</ref> while B.C. Forbes became editor-in-chief, a post he held until his death in 1954. B.C. Forbes was assisted in his later years by his two eldest sons, Bruce Charles Forbes (1916–1964) and [[Malcolm Forbes]] (1917–1990).\\n\\nBruce Forbes took over on his father\\'s death, and his strengths lay in streamlining operations and developing marketing.<ref name=\"Gorman\"/> During his tenure, 1954–1964, the magazine\\'s circulation nearly doubled.<ref name=\"Gorman\"/>\\n\\nOn Bruce\\'s death, his brother [[Malcolm Forbes]] became President and Chief executive of Forbes and Editor-in-Chief of \\'\\'Forbes\\'\\' magazine.<ref name=\"EP01\">[http://www.elevation.com/downloads/News_08-07.pdf \\'Forbes Announce Elevation Partners Investment in Family Held Company\\'] Elevation Partners press release, August 6, 2006.</ref> Between 1961 and 1999 the magazine was edited by [[James Michaels]].<ref name=20071004nytimes>{{cite news |url=https://www.nytimes.com/2007/10/04/business/04michaels.html |title=James Michaels, Longtime Forbes Editor, Dies at 86|accessdate=January 5, 2008|work=The New York Times|first=Richard|last=Pérez-Peña|date=October 4, 2007}}</ref> In 1993, under Michaels, \\'\\'Forbes\\'\\' was a finalist for the National Magazine Award.<ref>{{cite web |url=http://www.magazine.org/asme/magazine_awards/searchable_database/index.aspx |title=National Magazine Awards Database |accessdate=January 5, 2008 |archive-url=https://web.archive.org/web/20110526232156/http://www.magazine.org/asme/magazine_awards/searchable_database/index.aspx |archive-date=May 26, 2011 |url-status=dead }}</ref> In 2006, an investment group [[Elevation Partners]] that includes rock star [[Bono]] bought a minority interest in the company with a reorganization, through a new company, Forbes Media LLC, in which Forbes Magazine and Forbes.com, along with other media properties, is now a part.<ref name=\"EP01\" /><ref>{{cite web |url=http://www.businessweek.com/innovate/NussbaumOnDesign/archives/2006/08/bono_buys_into.html |title=NussbaumOnDesign Bono Buys into Forbes, Launches Product Red in US and Expands His Brand |work=Bloomberg BusinessWeek |accessdate=January 5, 2008}}</ref> A 2009 \\'\\'New York Times\\'\\' report said: \"40 percent of the enterprise was sold ... for a reported $300&nbsp;million, setting the value of the enterprise at $750&nbsp;million.\" Three years later, Mark M. Edmiston of AdMedia Partners observed, \"It\\'s probably not worth half of that now.\"<ref name=\"NYT01\">[https://www.nytimes.com/2009/06/15/business/media/15forbes.html \"Even Forbes is Pinching Pennies\"] by [[David Carr (journalist)|David Carr]], \\'\\'The New York Times\\'\\', June 14, 2009 (June 15, 2009 on p. B1 of the NY ed.). Retrieved June 15, 2009.</ref> It was later revealed that the price had been US$264&nbsp;million.<ref name= \"Marketwatch\">{{cite news|newspaper=MarketWatch|title=Forbes sold to Asian investors|date=July 19, 2014|last=Trachtenberg|first=Jeffrey A|publisher=Market Watch, Inc.|url=http://www.marketwatch.com/story/forbes-sold-to-asian-investors-2014-07-19|access-date=June 18, 2017}}</ref>\\n\\n===Sale of headquarters===\\nIn January 2010, \\'\\'Forbes\\'\\' reached an agreement to sell its headquarters building on [[Fifth Avenue]] in [[Manhattan]] to [[New York University]]; terms of the deal were not publicly reported, but Forbes was to continue to occupy the space under a five year [[sale-leaseback]] arrangement.<ref>[http://mediadecoder.blogs.nytimes.com/2010/01/07/forbes-sells-building-to-nyu/ Forbes Sells Building to N.Y.U.]. \\'\\'New York Times Media Decoder\\'\\'. Retrieved January 7, 2010.</ref> The company\\'s headquarters moved to the [[Newport, Jersey City|Newport]] section of [[downtown Jersey City]], New Jersey, in 2014.<ref name=20141218njtvonline>{{cite web|url=http://www.njtvonline.org/news/video/forbes-moves-across-the-hudson-to-jersey-city/|title=Forbes Moves Across the Hudson to Jersey City|first=Mike|last=Schneider|publisher=WNET – NJTV|date=December 18, 2014|accessdate=June 14, 2015}}</ref><ref name=20141212nj>{{cite news|url=http://www.nj.com/hudson/index.ssf/2014/12/forbes_moving_to_new_jersey_city_offices_monday_report_says.html|title=Forbes moving into Jersey City offices on Monday, report says|newspaper=The Jersey Journal|date=December 12, 2014|accessdate=June 14, 2015}}</ref>\\n\\n===Sale to Integrated Whale Media (51% stake)===\\nIn November 2013, Forbes Media, which publishes \\'\\'Forbes\\'\\' magazine, was put up for sale.<ref name=20131115nytimes>{{cite news | url=https://www.nytimes.com/2013/11/16/business/media/forbes-says-it-is-for-sale.html | title=Forbes Says It Is for Sale|work=The New York Times|date=November 15, 2013|accessdate=November 25, 2013|first1=Christine |last1=Haughney |first2=David |last2=Gelles}}</ref> This was encouraged by minority shareholders Elevation Partners. Sale documents prepared by Deutsche Bank revealed that the publisher\\'s 2012 [[Earnings before interest, taxes, depreciation, and amortization|EBITDA]] was US$15&nbsp;million.<ref name=niemanlab>{{cite web|url=http://www.niemanlab.org/2014/01/the-newsonomics-of-forbes-real-performance-and-price-potential/ |title=The Newsonomics of Forbes\\' real performance and price potential|publisher=Nieman Lab|first=Ken |last=Doctor|accessdate=February 10, 2014}}</ref> \\'\\'Forbes\\'\\' reportedly sought a price of US$400&nbsp;million.<ref name=niemanlab/> In July 2014, the Forbes family bought out Elevation and then sold a 51 percent majority of the company to Chinese Hong Kong-based investment group Integrated Whale Media Investments.<ref name=forbes2014>{{cite press release|url=https://www.forbes.com/sites/forbespr/2014/07/18/forbes-media-agrees-to-sell-majority-stake-to-a-group-of-international-investors-to-accelerate-the-companys-global-growth/|title=Forbes Media Agrees To Sell Majority Stake to a Group of International Investors To Accelerate The Company\\'s Global Growth|work=Forbes|date=July 18, 2014|accessdate=July 24, 2015}}</ref><ref name=recode11628980>{{cite web|url=http://www.recode.net/2014/7/18/11628980/forbes-sells-to-hong-kong-investment-group|title=Forbes Sells to Hong Kong Investment Group|work=Recode|accessdate=August 27, 2018|date=July 18, 2014}}</ref><ref name = \"Marketwatch\" />\\n\\n==Other publications==\\nApart from \\'\\'Forbes\\'\\' and its lifestyle supplement, \\'\\'Forbes Life\\'\\', other titles include \\'\\'Forbes Asia\\'\\' and 27 local language editions. \\n<div style=\"column-count:3;\">\\n*Forbes Africa\\n*Forbes Afrique\\n*Forbes Argentina\\n*Forbes Austria\\n*Forbes Brazil\\n*Forbes Bulgaria\\n*Forbes China\\n*Forbes Czech\\n*Forbes France\\n*Forbes Georgia\\n*Forbes Greece\\n*Forbes Hungary\\n*Forbes India\\n*Forbes Israel\\n*Forbes Italy\\n*Forbes Japan\\n*Forbes Kazakhstan\\n*Forbes Mexico\\n*Forbes Middle East\\n*Forbes Monaco\\n*Forbes Poland\\n*Forbes Romania\\n*Forbes Russia\\n*Forbes Slovakia\\n*Forbes Spain\\n*Forbes Thailand\\n*Forbes Vietnam\\n</div>\\nSteve Forbes and his magazine\\'s writers offer investment advice on the weekly [[Fox News Channel|Fox]] TV show \\'\\'[[Forbes on Fox]]\\'\\' and on \\'\\'Forbes on Radio\\'\\'. Other company groups include Forbes Conference Group, Forbes Investment Advisory Group and Forbes Custom Media. From the 2009 \\'\\'Times\\'\\' report: \"Steve Forbes recently returned from opening up a \\'\\'Forbes\\'\\' magazine in [[India]], bringing the number of foreign editions to 10.\" In addition, that year the company began publishing \\'\\'ForbesWoman\\'\\', a quarterly magazine published by Steve Forbes\\'s daughter, [[Moira Forbes]], with a companion Web site.<ref name=\"NYT01\" />\\n\\nThe company formerly published \\'\\'[[American Legacy]]\\'\\' magazine as a joint venture, although that magazine separated from Forbes on May 14, 2007.<ref>{{Cite web |url=http://www.minonline.com/min/4549.html |title=With The May 14 Announced Separation: Twelve-Year-Old \"American Legacy\"/\"Forbes\" Partnership Was Mutually Beneficial |access-date=September 1, 2014 |archive-url=https://web.archive.org/web/20140903140410/http://www.minonline.com/min/4549.html |archive-date=September 3, 2014 |url-status = dead }}</ref>\\n\\nThe company also formerly published \\'\\'[[American Heritage (magazine)|American Heritage]]\\'\\' and \\'\\'[[Invention and Technology Magazine|Invention & Technology]]\\'\\' magazines. After failing to find a buyer, Forbes suspended publication of these two magazines as of May 17, 2007.<ref name=20070517nytimes>{{cite news| url=https://www.nytimes.com/2007/05/17/arts/17heri.html|work=The New York Times|first=Charles|last=McGrath|title=Magazine Suspends Its Run in History| date=May 17, 2007}}</ref> Both magazines were purchased by the American Heritage Publishing Company and resumed publication as of the spring of 2008.<ref name=americanheritage20080204>{{cite web|url=http://www.americanheritage.com/events/articles/web/20080204-ThankYou.shtml |title=Thank You for Your Feedback on the American Heritage Winter 2008 Issue |work=American Heritage |archiveurl=https://web.archive.org/web/20101230034738/http://www.americanheritage.com/events/articles/web/20080204-ThankYou.shtml|archivedate=December 30, 2010}}</ref>\\n\\nForbes has published the \\'\\'[[Forbes Travel Guide]]\\'\\' since 2009.\\n\\nIn 2013, Forbes licensed its brand to [[Ashford University]], and assisted them launch the [[Forbes School of Business & Technology]].<ref>{{Cite web|url=https://www.ashford.edu/online-degrees/forbes-school-of-business-and-technology/board-of-advisors|title=Forbes School of Business & Technology Board of Advisors |publisher=Ashford University|access-date=May 12, 2019}}</ref> Forbes Media CEO Mike Federle justified the licensing in 2018, stating that \"Our licensing business is almost a pure-[[Profit (accounting)|profit business]], because it\\'s an [[Annuity|annual annuity]].\"<ref>{{Cite web|url=https://digiday.com/media/with-revenue-rising-forbes-is-looking-to-invest-in-or-buy-media-and-tech-companies/|title=Amid media doom and gloom, Forbes says revenue was up and profits highest in a decade|last=Patel|first=Sahil|date=December 21, 2018|website=Digiday|access-date=May 12, 2019}}</ref> Forbes would launch limited promotions for the school in limited issues. Forbes would never formerly endorse the school.\\n\\nOn January 6, 2014, \\'\\'Forbes\\'\\' magazine announced that, in partnership with app creator Maz, it was launching a social networking app called \"Stream\". Stream allows Forbes readers to save and share visual content with other readers and discover content from \\'\\'Forbes\\'\\' magazine and Forbes.com within the app.<ref>{{cite news | url= https://www.forbes.com/sites/forbespr/2014/01/06/forbes-is-the-first-magazine-to-launch-its-own-social-network-with-stream/ |title= Forbes is the first magazine to launch its own social network site|work=Forbes|date=January 6, 2014 }}</ref>\\n\\n==Forbes.com==\\nForbes.com is part of Forbes Digital, a division of Forbes Media LLC. Forbes\\'s holdings include a portion of\\n[[RealClearPolitics]]. Together these sites reach more than 27 million unique visitors each month. \\nForbes.com employs the slogan \"Home Page for the World\\'s Business Leaders\" and claimed, in 2006, to be the world\\'s most widely visited business web site.<ref name=20060828nytimes>{{cite news|url=https://www.nytimes.com/2006/08/28/technology/28forbes.html|title=At Forbes.com, Lots of Glitter but Maybe Not So Many Visitors|first=Peter|last=Edmonston|date=August 28, 2006|work=The New York Times|accessdate=May 2, 2011}}</ref> The 2009 \\'\\'Times\\'\\' report said that, while \"one of the top five financial sites by traffic [throwing] off an estimated $70&nbsp;million to $80&nbsp;million a year in revenue, [it] never yielded the hoped-for [[public offering]]\".<ref name=\"NYT01\" />\\n\\nForbes.com uses a \"contributor model\" in which a wide network of \"contributors\" writes and publishes articles directly on the website.<ref name=\"contributorstory\" /> Contributors are paid based on traffic to their respective Forbes.com pages; the site has received contributions from over 2,500 individuals, and some contributors have earned over US$100,000, according to the company.<ref name=contributorstory>{{cite web |last=Bartlett |first=Rachel |title=The Forbes contributor model: Technology, feedback and incentives |url=http://www.journalism.co.uk/news/the-forbes-contributor-model-technology-feedback-and-incentives/s2/a554255/ |publisher=journalism.co.uk |accessdate=October 13, 2013|date=September 26, 2013 }}</ref> \\'\\'Forbes\\'\\' currently allows advertisers to publish blog posts on its website alongside regular editorial content through a program called BrandVoice, which accounts for more than 10 percent of its digital revenue.<ref>{{cite news|title=Forbes gives advertisers an editorial voice |publisher=emedia |url=http://www.emediavitals.com/content/forbes-gives-advertisers-editorial-voice |archiveurl=https://web.archive.org/web/20131109153816/http://www.emediavitals.com/content/forbes-gives-advertisers-editorial-voice |archivedate=November 9, 2013}}</ref> Forbes.com also publishes subscription investment newsletters, and an online guide to web sites, \\'\\'Best of the Web\\'\\'. In July 2018 Forbes deleted an article by a contributor who argued that libraries should be closed, and Amazon should open bookstores in their place.<ref>{{cite web|url= https://www.fastcompany.com/90206661/forbes-seems-to-have-deleted-its-controversial-article-about-amazon-replacing-libraries|title=Forbes deleted its controversial article about Amazon replacing libraries\\n|first=Cale |last=Weissman |date=July 23, 2018|work=[[Fast Company (magazine)|Fast Company]]}}</ref>\\n\\n[[David Churbuck]] founded \\'\\'Forbes\\'\\'{{\\'}}s web site in 1996. The site uncovered [[Stephen Glass (reporter)|Stephen Glass]]\\'s [[journalistic fraud]] in \\'\\'[[The New Republic]]\\'\\' in 1998, an article that drew attention to [[internet journalism]]. At the peak of media coverage of alleged [[Toyota]] sudden unintended acceleration in 2010, it exposed the California \"runaway Prius\" as a hoax, as well as running five other articles by Michael Fumento challenging the entire media premise of Toyota\\'s cars gone bad. The site, like the magazine, publishes many lists focusing on billionaires and their possessions, especially expensive homes, a critical aspect of the website\\'s popularity.<ref name=gawker162725>{{cite web |url=http://www.gawker.com/news/jobs/motley-to-leave-time-inc-plus-more-jobhopping-fun-162725.php |title=Jobs: Motley to Leave Time Inc., Plus More Job-Hopping Fun |work=Gawker |accessdate=January 5, 2008 |url-status = dead|archiveurl=https://web.archive.org/web/20080218092904/http://gawker.com/news/jobs/motley-to-leave-time-inc-plus-more-jobhopping-fun-162725.php |archivedate=February 18, 2008  }}</ref>\\n\\nCurrently, the website also blocks internet users using [[ad blocking]] software (such as [[Adblock Plus]]) from accessing articles, demanding that the website be put on the ad blocking software\\'s [[whitelist]] before access is granted.<ref>{{cite web |first=Jason |last=Bloomberg |title=Ad Blocking Battle Drives Disruptive Innovation |url=https://www.forbes.com/sites/jasonbloomberg/2017/02/18/ad-blocking-battle-drives-disruptive-innovation/ |work=Forbes |accessdate=April 14, 2017}}</ref> Forbes argues that this is done because customers using ad blocking software do not contribute to the site\\'s revenue. Malware attacks have been noted to occur from Forbes site.<ref name=extremetech220696>{{cite web |last1=Hruska |first1=Joel |title=Forbes forces readers to turn off ad blockers, promptly serves malware |url=https://www.extremetech.com/internet/220696-forbes-forces-readers-to-turn-off-ad-blockers-promptly-serves-malware |publisher=Extreme Tech |accessdate=April 14, 2017}}</ref>\\n\\nForbes won the [[2020 Webby Award|2020 Webby People’s Voice Award for Business Blog/Website]] in the category Web.<ref name=\"Kastrenakes\">{{cite web |last1=Kastrenakes |first1=Jacob |title=Here are all the winners of the 2020 Webby Awards |url=https://www.theverge.com/2020/5/20/21263445/2020-webby-awards-winners-lil-nas-x-nasa-jon-krasinski |website=The Verge |accessdate=22 May 2020 |language=en |date=20 May 2020}}</ref>\\n\\n== Forbes8 ==\\nIn November 2019, Forbes launched its streaming platform Forbes8, an on-demand video network debuting a slate of original content aimed at entrepreneurs.<ref>{{Cite web|last=Releases|first=Forbes Press|title=Forbes8, Forbes’ On-Demand Video Network For Entrepreneurs, Debuts New Slate Of Original Content|url=https://www.forbes.com/sites/forbespr/2020/02/20/forbes8-forbes-on-demand-video-network-for-entrepreneurs-debuts-new-slate-of-original-content/|access-date=2020-08-05|website=Forbes|language=en}}</ref> The network currently features thousands of videos and according to Forbes is, \"a Netflix for entrepreneurs.\"<ref>{{Cite web|last=Kene-Okafor|first=Tage|date=2020-05-25|title=Forbes8 launches digital startup accelerator, calls for applications|url=https://techpoint.africa/2020/05/25/forbes8-digital-startup-accelerator/|access-date=2020-08-05|website=Techpoint Africa|language=en-US}}</ref> In 2020, the network announced the release of several documentary series including Forbes Rap Mentors, Driven Against The Odds, Indie Nation and Titans on The Rocks<ref>{{Cite web|date=2019-10-23|title=Forbes8 Original Series: 6 icons of entrepreneurship show you how to become your own boss|url=https://gritdaily.com/forbes8-launches-6-original-series/|access-date=2020-08-05|website=Grit Daily News|language=en-US}}</ref>\\n\\n==See also==\\n* [[Forbes 500]]\\n* [[Forbes 30 Under 30]]\\n\\n==References==\\n{{Reflist}}\\n\\n==Further reading==\\n* Forbes, Malcolm S. (1974) \\'\\'Fact and Comment\\'\\' Knopf, New York, {{ISBN|0-394-49187-4}}; twenty-five years of the editor\\'s columns from \\'\\'Forbes\\'\\'\\n* Grunwald, Edgar A. (1988) \\'\\'The Business Press Editor\\'\\' New York University Press, New York, {{ISBN|0-8147-3016-7}}\\n* Holliday, Karen Kahler (1987)\\'\\'A Content Analysis of \\'\\'Business Week\\'\\', \\'\\'Forbes\\'\\' and \\'\\'Fortune\\'\\' from 1966 to 1986\\'\\' Masters of Journalism thesis from Louisiana State University, Baton Rouge, 69 pages, {{OCLC|18772376}}, available on microfilm\\n* Kohlmeier, Louis M.; Udell, Jon G. and Anderson, Laird B. (eds.) (1981) \\'\\'Reporting on Business and the Economy\\'\\' Prentice-Hall, Englewood Cliffs, New Jersey, {{ISBN|0-13-773879-X}}\\n* Kurtz, Howard (2000) \\'\\'The Fortune Tellers: Inside Wall Street\\'s Game of Money, Media, and Manipulation\\'\\' Free Press, New York, {{ISBN|0-684-86879-2}}\\n* {{cite book |last=Pinkerson |first=Stewart |year=2011 |title=The Fall of the House of Forbes: The Inside Story of the Collapse of a Media Empire |url=https://archive.org/details/fallofhouseoffor0000pink |location=New York City |publisher=[[St. Martin\\'s Press]] |isbn=978-0312658595 |accessdate= |url-access=registration }}\\n* Tebbel, John William and Zuckerman, Mary Ellen (1991) \\'\\'The Magazine in America, 1741–1990\\'\\' Oxford University Press, New York, {{ISBN|0-19-505127-0}}\\n* Parsons, D. W. (1989) \\'\\'The Power of the Financial Press: Journalism and Economic Opinion in Britain and America\\'\\' Rutgers University Press, New Jersey, {{ISBN|0-8135-1497-5}}\\n\\n==External links==\\n{{commons category|Forbes}}\\n* {{Official website|https://www.forbes.com/}}\\n\\n{{Forbes Magazine Lists}}\\n{{Use mdy dates|date=February 2020}}\\n{{Authority control}}\\n\\n[[Category:Forbes| ]]\\n[[Category:1917 establishments in the United States]]\\n[[Category:Business magazines published in the United States]]\\n[[Category:Biweekly magazines published in the United States]]\\n[[Category:Companies based in Jersey City, New Jersey]]\\n[[Category:Magazines established in 1917]]\\n[[Category:Magazines published in New Jersey]]\\n[[Category:Mass media in Hudson County, New Jersey]]'}]}}\n"
     ]
    }
   ],
   "source": [
    "wiki2json = json.loads(wiki2text)\n",
    "print(wiki2json[\"query\"][\"pages\"])"
   ]
  },
  {
   "cell_type": "code",
   "execution_count": null,
   "metadata": {},
   "outputs": [],
   "source": []
  }
 ],
 "metadata": {
  "kernelspec": {
   "display_name": "Python 3",
   "language": "python",
   "name": "python3"
  },
  "language_info": {
   "codemirror_mode": {
    "name": "ipython",
    "version": 3
   },
   "file_extension": ".py",
   "mimetype": "text/x-python",
   "name": "python",
   "nbconvert_exporter": "python",
   "pygments_lexer": "ipython3",
   "version": "3.6.8"
  }
 },
 "nbformat": 4,
 "nbformat_minor": 2
}
